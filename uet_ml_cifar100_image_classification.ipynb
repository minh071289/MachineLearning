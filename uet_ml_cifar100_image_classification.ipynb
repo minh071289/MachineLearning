{
  "nbformat": 4,
  "nbformat_minor": 0,
  "metadata": {
    "colab": {
      "provenance": [],
      "gpuType": "T4",
      "include_colab_link": true
    },
    "kernelspec": {
      "name": "python3",
      "display_name": "Python 3"
    },
    "language_info": {
      "name": "python"
    },
    "accelerator": "GPU"
  },
  "cells": [
    {
      "cell_type": "markdown",
      "metadata": {
        "id": "view-in-github",
        "colab_type": "text"
      },
      "source": [
        "<a href=\"https://colab.research.google.com/github/minh071289/MachineLearning/blob/main/uet_ml_cifar100_image_classification.ipynb\" target=\"_parent\"><img src=\"https://colab.research.google.com/assets/colab-badge.svg\" alt=\"Open In Colab\"/></a>"
      ]
    },
    {
      "cell_type": "markdown",
      "source": [
        "# Description\n",
        "Your task is to create a neural network to classify images in the cifar100 dataset.\n",
        "- You have to write the code from scratch, train the model and test the accuracy on the test set.\n",
        "- You are not allowed to use pretrained models to do this task.\n",
        "- You have to submit the .ipynb files with the execution result.\n",
        "\n",
        "# Grading criteria\n",
        "- You are graded on the test set accuracy:\n",
        "  - Test accuracy = 0.50, Grade = 6\n",
        "  - Test accuracy = 0.55, Grade = 7\n",
        "  - Test accuracy = 0.60, Grade = 8\n",
        "  - Test accuracy = 0.65, Grade = 9\n",
        "  - Test accuracy = 0.70, Grade = 10\n",
        "- Plagiarism will automatically results in 0 mark.\n"
      ],
      "metadata": {
        "id": "QCzmBFfaHZ76"
      }
    },
    {
      "cell_type": "code",
      "execution_count": 1,
      "metadata": {
        "id": "bozqVzArHU2l"
      },
      "outputs": [],
      "source": [
        "# DO NOT MODIFY THIS CODE\n",
        "import torch\n",
        "import torch.nn as nn\n",
        "import torch.optim as opt\n",
        "import torch.nn.functional as F\n",
        "from torchvision import datasets, transforms\n",
        "import matplotlib.pyplot as plt\n",
        "import numpy as np\n",
        "from typing import Tuple\n",
        "from tqdm.auto import tqdm, trange\n"
      ]
    },
    {
      "cell_type": "code",
      "source": [
        "# DO NOT MODIFY THIS CODE\n",
        "cifar100_train = datasets.CIFAR100('./data',\n",
        "                             train=True,\n",
        "                             download=True,\n",
        "                             transform=transforms.ToTensor())\n",
        "\n",
        "cifar100_test = datasets.CIFAR100('./data',\n",
        "                              train=False,\n",
        "                              download=True,\n",
        "                              transform=transforms.ToTensor())"
      ],
      "metadata": {
        "id": "4e-8qfMtIlyT",
        "colab": {
          "base_uri": "https://localhost:8080/"
        },
        "outputId": "eb0767af-bc24-425a-a5cd-5c937e254e2f"
      },
      "execution_count": 2,
      "outputs": [
        {
          "output_type": "stream",
          "name": "stderr",
          "text": [
            "100%|██████████| 169M/169M [00:03<00:00, 44.2MB/s]\n"
          ]
        }
      ]
    },
    {
      "cell_type": "code",
      "source": [
        "print(len(cifar100_train))\n",
        "print(len(cifar100_test))"
      ],
      "metadata": {
        "colab": {
          "base_uri": "https://localhost:8080/"
        },
        "id": "01AUIyphLB3v",
        "outputId": "6db893e4-38e0-400d-aed6-26c0f1ec7abd"
      },
      "execution_count": 3,
      "outputs": [
        {
          "output_type": "stream",
          "name": "stdout",
          "text": [
            "50000\n",
            "10000\n"
          ]
        }
      ]
    },
    {
      "cell_type": "code",
      "source": [
        "# DO NOT MODIFY THIS CODE\n",
        "def evaluate(net: nn.Module,\n",
        "             data) -> float:\n",
        "  \"\"\"\n",
        "  Evaluates the neural network on the given data.\n",
        "  @param net: the neural network to evaluate\n",
        "  @param data: the data to evaluate on\n",
        "  @return: the accuracy of the neural network on the given data\n",
        "  \"\"\"\n",
        "  data_loader = torch.utils.data.DataLoader(data,\n",
        "                                            batch_size=100,\n",
        "                                            shuffle=False)\n",
        "\n",
        "  correct = 0\n",
        "  total = 0\n",
        "  device = torch.device(\"cuda\" if torch.cuda.is_available() else \"cpu\")\n",
        "  net.to(device)\n",
        "  net.eval()\n",
        "  with torch.no_grad():\n",
        "    for batch_idx, (inputs, targets) in enumerate(data_loader):\n",
        "      inputs, targets = inputs.to(device), targets.to(device)\n",
        "      pred_target = net(inputs).argmax(dim=1)\n",
        "      correct += (pred_target == targets).sum().item()\n",
        "      total += targets.size(0)\n",
        "\n",
        "  return correct / total"
      ],
      "metadata": {
        "id": "MGJ0ngjhM8RX"
      },
      "execution_count": 4,
      "outputs": []
    },
    {
      "cell_type": "code",
      "source": [
        "def train(train_data,\n",
        "          net,\n",
        "          **kwargs) -> Tuple[nn.Module, list[float], list[float]]:\n",
        "  \"\"\"\n",
        "  Trains the neural network on the given data.\n",
        "  @param train_data: the data to train on\n",
        "  @param net: the neural network to train\n",
        "  @param kwargs: the keyword arguments such as learning rate, batch size, etc.\n",
        "  @return: the trained neural network, train losses, and train accuracies\n",
        "  \"\"\"\n",
        "  # NOTE: YOU ARE NOT ALLOWED TO PASS test_data AS A PARAMERTER TO THIS METHOD\n",
        "  train_losses = []\n",
        "  train_accuracies = []\n",
        "  device = torch.device(\"cuda\" if torch.cuda.is_available() else \"cpu\")\n",
        "  net.to(device)\n",
        "  net.train()\n",
        "\n",
        "  # YOUR CODE HERE\n",
        "  # Hints: you are free to normalize the training data, invent new architecture,\n",
        "  # apply early stopping, regularization, or any other kinds of tricks here.\n",
        "\n",
        "  # Example code\n",
        "  train_loader = torch.utils.data.DataLoader(\n",
        "        train_data,\n",
        "        batch_size=kwargs.get('batch_size', 64),\n",
        "        shuffle=True\n",
        "    )\n",
        "\n",
        "  optimizer = opt.Adam(\n",
        "      net.parameters(),\n",
        "      lr=kwargs.get('lr', 1e-3),\n",
        "      weight_decay=kwargs.get('weight_decay', 1e-5)  # L2 regularization\n",
        "  )\n",
        "\n",
        "  scheduler = torch.optim.lr_scheduler.StepLR(\n",
        "      optimizer,\n",
        "      step_size=kwargs.get('lr_step', 10),\n",
        "      gamma=kwargs.get('lr_gamma', 0.5)\n",
        "  )\n",
        "\n",
        "  criterion = nn.CrossEntropyLoss()\n",
        "  pbar = trange(kwargs.get('epochs', 20))\n",
        "\n",
        "  for epoch in pbar:\n",
        "      net.train()\n",
        "      total_loss = 0\n",
        "\n",
        "      for inputs, targets in tqdm(train_loader, leave=False):\n",
        "          inputs, targets = inputs.to(device), targets.to(device)\n",
        "\n",
        "          # Normalize inputs if needed\n",
        "          if inputs.dim() > 2:\n",
        "              inputs = (inputs - inputs.mean(dim=(1, 2, 3), keepdim=True)) / (\n",
        "                  inputs.std(dim=(1, 2, 3), keepdim=True) + 1e-7)\n",
        "\n",
        "          optimizer.zero_grad()\n",
        "          outputs = net(inputs)\n",
        "          loss = criterion(outputs, targets)\n",
        "          loss.backward()\n",
        "\n",
        "          # Clip gradients\n",
        "          torch.nn.utils.clip_grad_norm_(net.parameters(), max_norm=1.0)\n",
        "\n",
        "          optimizer.step()\n",
        "          total_loss += loss.item()\n",
        "\n",
        "      avg_loss = total_loss / len(train_loader)\n",
        "      train_losses.append(avg_loss)\n",
        "\n",
        "      # Evaluate accuracy on full train set\n",
        "      accuracy = evaluate(net, train_data)\n",
        "      train_accuracies.append(accuracy)\n",
        "\n",
        "      pbar.set_description(f\"Epoch {epoch+1} | Loss: {avg_loss:.4f} | Acc: {accuracy:.4f}\")\n",
        "      scheduler.step()\n",
        "\n",
        "  return net, train_losses, train_accuracies"
      ],
      "metadata": {
        "id": "UrtT6A6wI2Mv"
      },
      "execution_count": 7,
      "outputs": []
    },
    {
      "cell_type": "code",
      "source": [
        "# Example code\n",
        "net = nn.Sequential(\n",
        "    nn.Flatten(),\n",
        "    nn.Linear(32*32*3, 1024),\n",
        "    nn.ReLU(),\n",
        "    nn.Linear(1024, 512),\n",
        "    nn.ReLU(),\n",
        "    nn.Linear(512, 256),\n",
        "    nn.ReLU(),\n",
        "    nn.Linear(256, 100),\n",
        ")\n",
        "lr = 0.001\n",
        "batch_size = 100\n",
        "epochs = 100\n",
        "net, train_losses, train_accuracies = train(train_data=cifar100_train,\n",
        "                                            net=net,\n",
        "                                            lr=lr,\n",
        "                                            optimizer='adam',\n",
        "                                            batch_size=batch_size,\n",
        "                                            epochs=epochs)"
      ],
      "metadata": {
        "id": "1kN-71d3JExw"
      },
      "execution_count": null,
      "outputs": []
    },
    {
      "cell_type": "code",
      "source": [
        "# DO NOT MODIFY THIS CODE\n",
        "plt.plot(train_losses)\n",
        "plt.title('Training Loss')\n",
        "plt.xlabel('Iteration')\n",
        "plt.ylabel('Loss')\n",
        "plt.show()"
      ],
      "metadata": {
        "colab": {
          "base_uri": "https://localhost:8080/",
          "height": 472
        },
        "id": "xEGlCwOLNr1j",
        "outputId": "ebfa181e-6d3e-420f-fda2-944cc3d70b2a"
      },
      "execution_count": 9,
      "outputs": [
        {
          "output_type": "display_data",
          "data": {
            "text/plain": [
              "<Figure size 640x480 with 1 Axes>"
            ],
            "image/png": "[encoded data removed]"
          },
          "metadata": {}
        }
      ]
    },
    {
      "cell_type": "code",
      "source": [
        "# DO NOT MODIFY THIS CODE\n",
        "plt.plot(train_accuracies)\n",
        "plt.title('Training Accuracy')\n",
        "plt.xlabel('Epoch')\n",
        "plt.ylabel('Accuracy')\n",
        "plt.show()"
      ],
      "metadata": {
        "colab": {
          "base_uri": "https://localhost:8080/",
          "height": 472
        },
        "id": "IHYoYPEeSDsm",
        "outputId": "fdf590a6-a045-4603-82e5-f7d1a1ea632d"
      },
      "execution_count": 10,
      "outputs": [
        {
          "output_type": "display_data",
          "data": {
            "text/plain": [
              "<Figure size 640x480 with 1 Axes>"
            ],
            "image/png": "[encoded data removed]"
          },
          "metadata": {}
        }
      ]
    },
    {
      "cell_type": "code",
      "source": [
        "# DO NOT MODIFY THIS CODE\n",
        "test_accuracy = evaluate(net, cifar100_test)\n",
        "print(f\"Test accuracy: {test_accuracy}\")"
      ],
      "metadata": {
        "colab": {
          "base_uri": "https://localhost:8080/"
        },
        "id": "ey4Vfx7vSFt0",
        "outputId": "c597e515-96a6-496f-a20a-050e46ad9a48"
      },
      "execution_count": 14,
      "outputs": [
        {
          "output_type": "stream",
          "name": "stdout",
          "text": [
            "Test accuracy: 0.2289\n"
          ]
        }
      ]
    }
  ]
}