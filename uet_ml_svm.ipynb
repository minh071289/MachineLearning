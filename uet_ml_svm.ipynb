{
  "nbformat": 4,
  "nbformat_minor": 0,
  "metadata": {
    "colab": {
      "provenance": [],
      "include_colab_link": true
    },
    "kernelspec": {
      "name": "python3",
      "display_name": "Python 3"
    },
    "language_info": {
      "name": "python"
    }
  },
  "cells": [
    {
      "cell_type": "markdown",
      "metadata": {
        "id": "view-in-github",
        "colab_type": "text"
      },
      "source": [
        "<a href=\"https://colab.research.google.com/github/minh071289/MachineLearning/blob/main/uet_ml_svm.ipynb\" target=\"_parent\"><img src=\"https://colab.research.google.com/assets/colab-badge.svg\" alt=\"Open In Colab\"/></a>"
      ]
    },
    {
      "cell_type": "markdown",
      "source": [
        "# Kernel SVM\n",
        "Your task is to implement linear SVM, kernel SVM, and soft margin SVM from scratch. You can use the libraries imported in the cell below. You are **NOT** allowed to use other libraries."
      ],
      "metadata": {
        "id": "36k12nELa0SX"
      }
    },
    {
      "cell_type": "code",
      "source": [
        "!pip install \"qpsolvers[open_source_solvers]\""
      ],
      "metadata": {
        "colab": {
          "base_uri": "https://localhost:8080/"
        },
        "id": "WMCP1Hf5Aips",
        "outputId": "213d63c6-e1ec-4af3-ea91-37d224c998a8"
      },
      "execution_count": null,
      "outputs": [
        {
          "output_type": "stream",
          "name": "stdout",
          "text": [
            "Collecting qpsolvers[open_source_solvers]\n",
            "  Downloading qpsolvers-4.7.0-py3-none-any.whl.metadata (12 kB)\n",
            "Requirement already satisfied: numpy>=1.15.4 in /usr/local/lib/python3.11/dist-packages (from qpsolvers[open_source_solvers]) (2.0.2)\n",
            "Requirement already satisfied: scipy>=1.2.0 in /usr/local/lib/python3.11/dist-packages (from qpsolvers[open_source_solvers]) (1.15.3)\n",
            "Requirement already satisfied: clarabel>=0.4.1 in /usr/local/lib/python3.11/dist-packages (from qpsolvers[open_source_solvers]) (0.10.0)\n",
            "Requirement already satisfied: cvxopt>=1.2.6 in /usr/local/lib/python3.11/dist-packages (from qpsolvers[open_source_solvers]) (1.3.2)\n",
            "Collecting daqp>=0.5.1 (from qpsolvers[open_source_solvers])\n",
            "  Downloading daqp-0.7.1-cp311-cp311-manylinux_2_17_x86_64.manylinux2014_x86_64.whl.metadata (1.4 kB)\n",
            "Collecting ecos>=2.0.8 (from qpsolvers[open_source_solvers])\n",
            "  Downloading ecos-2.0.14-cp311-cp311-manylinux_2_17_x86_64.manylinux2014_x86_64.whl.metadata (8.0 kB)\n",
            "Requirement already satisfied: highspy>=1.1.2.dev3 in /usr/local/lib/python3.11/dist-packages (from qpsolvers[open_source_solvers]) (1.10.0)\n",
            "Collecting jaxopt>=0.8.3 (from qpsolvers[open_source_solvers])\n",
            "  Downloading jaxopt-0.8.5-py3-none-any.whl.metadata (3.3 kB)\n",
            "Requirement already satisfied: osqp>=0.6.2 in /usr/local/lib/python3.11/dist-packages (from qpsolvers[open_source_solvers]) (1.0.4)\n",
            "Collecting piqp>=0.2.2 (from qpsolvers[open_source_solvers])\n",
            "  Downloading piqp-0.5.0-cp311-cp311-manylinux_2_17_x86_64.manylinux2014_x86_64.whl.metadata (5.2 kB)\n",
            "Collecting proxsuite>=0.2.9 (from qpsolvers[open_source_solvers])\n",
            "  Downloading proxsuite-0.7.2-0-cp311-cp311-manylinux_2_17_x86_64.whl.metadata (12 kB)\n",
            "Collecting qpalm>=1.2.1 (from qpsolvers[open_source_solvers])\n",
            "  Downloading qpalm-1.2.5-cp311-cp311-manylinux_2_17_x86_64.whl.metadata (13 kB)\n",
            "Collecting qpax>=0.0.9 (from qpsolvers[open_source_solvers])\n",
            "  Downloading qpax-0.0.9-py3-none-any.whl.metadata (4.7 kB)\n",
            "Collecting quadprog>=0.1.11 (from qpsolvers[open_source_solvers])\n",
            "  Downloading quadprog-0.1.13-cp311-cp311-manylinux_2_17_x86_64.manylinux2014_x86_64.whl.metadata (1.2 kB)\n",
            "Requirement already satisfied: scs>=3.2.0 in /usr/local/lib/python3.11/dist-packages (from qpsolvers[open_source_solvers]) (3.2.7.post2)\n",
            "Collecting sip-python>=0.0.2 (from qpsolvers[open_source_solvers])\n",
            "  Downloading sip_python-0.0.2-cp311-cp311-manylinux_2_27_x86_64.manylinux_2_28_x86_64.whl.metadata (935 bytes)\n",
            "Requirement already satisfied: jax>=0.2.18 in /usr/local/lib/python3.11/dist-packages (from jaxopt>=0.8.3->qpsolvers[open_source_solvers]) (0.5.2)\n",
            "Requirement already satisfied: jaxlib>=0.1.69 in /usr/local/lib/python3.11/dist-packages (from jaxopt>=0.8.3->qpsolvers[open_source_solvers]) (0.5.1)\n",
            "Requirement already satisfied: jinja2 in /usr/local/lib/python3.11/dist-packages (from osqp>=0.6.2->qpsolvers[open_source_solvers]) (3.1.6)\n",
            "Requirement already satisfied: setuptools in /usr/local/lib/python3.11/dist-packages (from osqp>=0.6.2->qpsolvers[open_source_solvers]) (75.2.0)\n",
            "Requirement already satisfied: joblib in /usr/local/lib/python3.11/dist-packages (from osqp>=0.6.2->qpsolvers[open_source_solvers]) (1.5.0)\n",
            "Collecting cmeel (from proxsuite>=0.2.9->qpsolvers[open_source_solvers])\n",
            "  Downloading cmeel-0.57.3-py3-none-any.whl.metadata (4.7 kB)\n",
            "Requirement already satisfied: ml_dtypes>=0.4.0 in /usr/local/lib/python3.11/dist-packages (from jax>=0.2.18->jaxopt>=0.8.3->qpsolvers[open_source_solvers]) (0.4.1)\n",
            "Requirement already satisfied: opt_einsum in /usr/local/lib/python3.11/dist-packages (from jax>=0.2.18->jaxopt>=0.8.3->qpsolvers[open_source_solvers]) (3.4.0)\n",
            "Requirement already satisfied: MarkupSafe>=2.0 in /usr/local/lib/python3.11/dist-packages (from jinja2->osqp>=0.6.2->qpsolvers[open_source_solvers]) (3.0.2)\n",
            "Downloading qpsolvers-4.7.0-py3-none-any.whl (91 kB)\n",
            "\u001b[2K   \u001b[90m━━━━━━━━━━━━━━━━━━━━━━━━━━━━━━━━━━━━━━━━\u001b[0m \u001b[32m91.7/91.7 kB\u001b[0m \u001b[31m1.5 MB/s\u001b[0m eta \u001b[36m0:00:00\u001b[0m\n",
            "\u001b[?25hDownloading daqp-0.7.1-cp311-cp311-manylinux_2_17_x86_64.manylinux2014_x86_64.whl (594 kB)\n",
            "\u001b[2K   \u001b[90m━━━━━━━━━━━━━━━━━━━━━━━━━━━━━━━━━━━━━━━━\u001b[0m \u001b[32m594.5/594.5 kB\u001b[0m \u001b[31m15.7 MB/s\u001b[0m eta \u001b[36m0:00:00\u001b[0m\n",
            "\u001b[?25hDownloading ecos-2.0.14-cp311-cp311-manylinux_2_17_x86_64.manylinux2014_x86_64.whl (220 kB)\n",
            "\u001b[2K   \u001b[90m━━━━━━━━━━━━━━━━━━━━━━━━━━━━━━━━━━━━━━━━\u001b[0m \u001b[32m220.1/220.1 kB\u001b[0m \u001b[31m8.8 MB/s\u001b[0m eta \u001b[36m0:00:00\u001b[0m\n",
            "\u001b[?25hDownloading jaxopt-0.8.5-py3-none-any.whl (172 kB)\n",
            "\u001b[2K   \u001b[90m━━━━━━━━━━━━━━━━━━━━━━━━━━━━━━━━━━━━━━━━\u001b[0m \u001b[32m172.4/172.4 kB\u001b[0m \u001b[31m7.2 MB/s\u001b[0m eta \u001b[36m0:00:00\u001b[0m\n",
            "\u001b[?25hDownloading piqp-0.5.0-cp311-cp311-manylinux_2_17_x86_64.manylinux2014_x86_64.whl (2.1 MB)\n",
            "\u001b[2K   \u001b[90m━━━━━━━━━━━━━━━━━━━━━━━━━━━━━━━━━━━━━━━━\u001b[0m \u001b[32m2.1/2.1 MB\u001b[0m \u001b[31m20.8 MB/s\u001b[0m eta \u001b[36m0:00:00\u001b[0m\n",
            "\u001b[?25hDownloading proxsuite-0.7.2-0-cp311-cp311-manylinux_2_17_x86_64.whl (1.6 MB)\n",
            "\u001b[2K   \u001b[90m━━━━━━━━━━━━━━━━━━━━━━━━━━━━━━━━━━━━━━━━\u001b[0m \u001b[32m1.6/1.6 MB\u001b[0m \u001b[31m16.1 MB/s\u001b[0m eta \u001b[36m0:00:00\u001b[0m\n",
            "\u001b[?25hDownloading qpalm-1.2.5-cp311-cp311-manylinux_2_17_x86_64.whl (1.4 MB)\n",
            "\u001b[2K   \u001b[90m━━━━━━━━━━━━━━━━━━━━━━━━━━━━━━━━━━━━━━━━\u001b[0m \u001b[32m1.4/1.4 MB\u001b[0m \u001b[31m35.6 MB/s\u001b[0m eta \u001b[36m0:00:00\u001b[0m\n",
            "\u001b[?25hDownloading qpax-0.0.9-py3-none-any.whl (11 kB)\n",
            "Downloading quadprog-0.1.13-cp311-cp311-manylinux_2_17_x86_64.manylinux2014_x86_64.whl (548 kB)\n",
            "\u001b[2K   \u001b[90m━━━━━━━━━━━━━━━━━━━━━━━━━━━━━━━━━━━━━━━━\u001b[0m \u001b[32m548.4/548.4 kB\u001b[0m \u001b[31m14.0 MB/s\u001b[0m eta \u001b[36m0:00:00\u001b[0m\n",
            "\u001b[?25hDownloading sip_python-0.0.2-cp311-cp311-manylinux_2_27_x86_64.manylinux_2_28_x86_64.whl (166 kB)\n",
            "\u001b[2K   \u001b[90m━━━━━━━━━━━━━━━━━━━━━━━━━━━━━━━━━━━━━━━━\u001b[0m \u001b[32m166.5/166.5 kB\u001b[0m \u001b[31m10.6 MB/s\u001b[0m eta \u001b[36m0:00:00\u001b[0m\n",
            "\u001b[?25hDownloading cmeel-0.57.3-py3-none-any.whl (20 kB)\n",
            "Installing collected packages: daqp, quadprog, piqp, cmeel, sip-python, qpsolvers, qpalm, proxsuite, ecos, qpax, jaxopt\n",
            "Successfully installed cmeel-0.57.3 daqp-0.7.1 ecos-2.0.14 jaxopt-0.8.5 piqp-0.5.0 proxsuite-0.7.2 qpalm-1.2.5 qpax-0.0.9 qpsolvers-4.7.0 quadprog-0.1.13 sip-python-0.0.2\n"
          ]
        }
      ]
    },
    {
      "cell_type": "code",
      "execution_count": null,
      "metadata": {
        "id": "1zF-ZeHeakTn"
      },
      "outputs": [],
      "source": [
        "import numpy as np\n",
        "import torch\n",
        "import matplotlib\n",
        "from matplotlib import pyplot as plt\n",
        "import matplotlib.animation as animation\n",
        "import qpsolvers"
      ]
    },
    {
      "cell_type": "code",
      "source": [
        "torch.manual_seed(0)\n",
        "def gen_data(\n",
        "    mu_pos = torch.FloatTensor([2.5, 2.5]),\n",
        "    mu_neg = torch.FloatTensor([-2.5, -2.5]),\n",
        "    Sigma_pos = torch.FloatTensor([[2, 0.3], [0.5, 1]]),\n",
        "    Sigma_neg = torch.FloatTensor([[2, 0.3], [0.5, 1]]),\n",
        "    n = 100\n",
        "  ):\n",
        "  class_pos = torch.randn(size=(n, 2)) @ Sigma_pos + mu_pos\n",
        "  class_neg = torch.randn(size=(n, 2)) @ Sigma_neg + mu_neg\n",
        "  return class_pos, class_neg"
      ],
      "metadata": {
        "id": "Gz6Myb0Taw5c"
      },
      "execution_count": null,
      "outputs": []
    },
    {
      "cell_type": "code",
      "source": [
        "class_pos, class_neg = gen_data()\n",
        "label_pos, label_neg = torch.ones(class_pos.shape[0], 1), 0 - torch.ones(class_neg.shape[0], 1)\n",
        "train_label = torch.cat([label_pos, label_neg], dim=0)\n",
        "train_input = torch.cat([class_pos, class_neg], dim=0)\n",
        "train_data = torch.cat([train_input, train_label], dim=1)\n",
        "\n",
        "plt.scatter(train_data[train_data[:, 2] == 1, 0], train_data[train_data[:, 2] == 1, 1])\n",
        "plt.scatter(class_neg[:, 0], class_neg[:, 1])\n",
        "plt.show()"
      ],
      "metadata": {
        "colab": {
          "base_uri": "https://localhost:8080/",
          "height": 430
        },
        "id": "oX_5GSiZb_KT",
        "outputId": "ce0cdc89-58a2-4667-8ef0-fb956b8d024c"
      },
      "execution_count": null,
      "outputs": [
        {
          "output_type": "display_data",
          "data": {
            "text/plain": [
              "<Figure size 640x480 with 1 Axes>"
            ],
            "image/png": "[encoded data removed]"
          },
          "metadata": {}
        }
      ]
    },
    {
      "cell_type": "code",
      "source": [
        "class SVM:\n",
        "  def __init__(self, kernel, C):\n",
        "    \"\"\"\n",
        "    @param kernel: kernel function, could be 'linear', 'poly', 'rbf', or your own.\n",
        "    Note that rbf kernel is also called Gaussian kernel.\n",
        "    @param C: regularization parameter for soft-margin SVM, see lecture slide\n",
        "    \"\"\"\n",
        "    self.kernel = kernel\n",
        "    self.C = C\n",
        "    self.support_vectors = []\n",
        "    # Your code here\n",
        "\n",
        "  def train(self, train_data):\n",
        "    \"\"\"\n",
        "    train_data: a list of (x, y) pairs, where x is a data point and y is a label\n",
        "    \"\"\"\n",
        "    # Your code here\n",
        "    # you should store the support vectors in self.support_vectors\n",
        "    pass\n",
        "\n",
        "  def infer(self, data):\n",
        "    \"\"\"\n",
        "    data: a list of data points\n",
        "    return: a list of predictions\n",
        "    \"\"\"\n",
        "    # Your code here\n",
        "    pass"
      ],
      "metadata": {
        "id": "9XgCtRf0cEPq"
      },
      "execution_count": null,
      "outputs": []
    },
    {
      "cell_type": "code",
      "source": [
        "# svm = SVM(kernel='linear', C=np.inf) # linear, hard margin SVM\n",
        "svm = SVM(kernel='rbf', C=1) # rbf, soft margin SVM\n",
        "svm.train(train_data)\n",
        "\n",
        "# visualize\n",
        "plt.scatter(train_data[train_data[:, 2] == 1, 0], train_data[train_data[:, 2] == 1, 1])\n",
        "plt.scatter(train_data[train_data[:, 2] == -1, 0], train_data[train_data[:, 2] == -1, 1])\n",
        "plt.scatter(svm.support_vectors[:, 0], svm.support_vectors[:, 1])\n",
        "plt.show()"
      ],
      "metadata": {
        "id": "CmRyjCvWfuYz"
      },
      "execution_count": null,
      "outputs": []
    },
    {
      "cell_type": "code",
      "source": [
        "test_pos, test_neg = gen_data(n=100)\n",
        "data = torch.cat([test_pos, test_neg])\n",
        "\n",
        "labels = svm.infer(data)\n",
        "\n",
        "# visualize\n",
        "plt.scatter(data[labels == 1, 0], data[labels == 1, 1])\n",
        "plt.scatter(data[labels == -1, 0], data[labels == -1, 1])\n",
        "plt.show()"
      ],
      "metadata": {
        "id": "jBv36UbcfEmc"
      },
      "execution_count": null,
      "outputs": []
    }
  ]
}